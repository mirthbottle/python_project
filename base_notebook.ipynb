{
 "cells": [
  {
   "cell_type": "code",
   "execution_count": null,
   "id": "1e32fd03-a5c7-4776-b56e-5f9901eaf741",
   "metadata": {},
   "outputs": [],
   "source": [
    "%load_ext autoreload\n",
    "%autoreload 2\n",
    "\n",
    "%load_ext dotenv\n",
    "%dotenv"
   ]
  },
  {
   "cell_type": "code",
   "execution_count": null,
   "id": "08e65ade-ba2e-49a3-918d-e6134808cb93",
   "metadata": {},
   "outputs": [],
   "source": [
    "from google.cloud import storage\n",
    "import pandas as pd\n",
    "import yfinance as yf"
   ]
  },
  {
   "cell_type": "code",
   "execution_count": null,
   "id": "fd69f22a-787f-4e0c-9f15-d8bbbcd2c7a4",
   "metadata": {},
   "outputs": [],
   "source": [
    "def download_dataframe(filepath, bucketname):\n",
    "    bucket = storage_client.get_bucket(bucketname)\n",
    "    blob = bucket.blob(filepath)\n",
    "    data = blob.download_to_filename(\"temp_data.pkl\")\n",
    "    data_df = pd.read_pickle(\"temp_data.pkl\")\n",
    "    return data_df"
   ]
  },
  {
   "cell_type": "code",
   "execution_count": 22,
   "id": "b5072837-b1fb-4d3c-8e19-5e3c694fa925",
   "metadata": {
    "tags": []
   },
   "outputs": [],
   "source": [
    "tickers = 'PYPL GS AXP SCHW CB '"
   ]
  },
  {
   "cell_type": "code",
   "execution_count": null,
   "id": "40a0d4ad-bb8c-4d40-81e3-0a25d61e37b5",
   "metadata": {},
   "outputs": [],
   "source": [
    "start_date = '2018-06-15'\n",
    "end_date = '2023-06-15'\n",
    " \n",
    "# Add multiple space separated tickers here\n",
    "ticker = tickers\n",
    "prices = yf.download(ticker, start_date, end_date)\n",
    "print(prices.tail())"
   ]
  },
  {
   "cell_type": "code",
   "execution_count": null,
   "id": "7a64389e-839b-46b5-aaf1-29fba93a8dd9",
   "metadata": {},
   "outputs": [],
   "source": [
    "prices_dna = prices.dropna(axis=1)\n",
    "\n",
    "stock_prices = prices_dna[\"Adj Close\"]\n",
    "\n",
    "stock_prices.to_excel(\"stock_prices_r1.xlsx\")"
   ]
  },
  {
   "cell_type": "code",
   "execution_count": null,
   "id": "cd8ac84e-f24f-438f-8787-b12226dbc763",
   "metadata": {},
   "outputs": [],
   "source": [
    "prices_dna = prices.dropna(axis=1)\n",
    "\n",
    "stock_prices = prices_dna[\"Adj Close\"]\n",
    "\n",
    "stock_prices.to_excel(\"stock_prices_r1.xlsx\")"
   ]
  },
  {
   "cell_type": "markdown",
   "id": "cee7e7f3-b131-4ab6-baa3-65d874909457",
   "metadata": {},
   "source": [
    "# optimize"
   ]
  },
  {
   "cell_type": "code",
   "execution_count": null,
   "id": "4f848939-3c15-45e5-ada3-21b87243a6b0",
   "metadata": {},
   "outputs": [],
   "source": [
    "from pypfopt import EfficientFrontier\n",
    "from pypfopt import risk_models\n",
    "from pypfopt import expected_returns"
   ]
  },
  {
   "cell_type": "code",
   "execution_count": null,
   "id": "97bb8c27-595c-428b-8b4f-3eb8c2df1a1f",
   "metadata": {},
   "outputs": [],
   "source": [
    "mu = expected_returns.mean_historical_return(stock_prices)"
   ]
  },
  {
   "cell_type": "code",
   "execution_count": null,
   "id": "a5603bc9-31ad-4fed-971d-7f4f85423a87",
   "metadata": {},
   "outputs": [],
   "source": [
    "S = risk_models.sample_cov(stock_prices)\n",
    "\n",
    "# Optimize for maximal Sharpe ratio\n",
    "ef = EfficientFrontier(mu, S)\n",
    "raw_weights = ef.max_sharpe()\n",
    "cleaned_weights = ef.clean_weights()\n",
    "# ef.save_weights_to_file(\"weights.csv\")  # saves to file\n",
    "print(cleaned_weights)\n",
    "# ef.portfolio_performance(verbose=True)"
   ]
  },
  {
   "cell_type": "code",
   "execution_count": null,
   "id": "0a5d0665-d625-4691-b706-594f7ff2858d",
   "metadata": {},
   "outputs": [],
   "source": [
    "weights_series = pd.Series(cleaned_weights)\n",
    "\n",
    "weights_series[weights_series>0]"
   ]
  }
 ],
 "metadata": {
  "kernelspec": {
   "display_name": "Python 3 (ipykernel)",
   "language": "python",
   "name": "python3"
  },
  "language_info": {
   "codemirror_mode": {
    "name": "ipython",
    "version": 3
   },
   "file_extension": ".py",
   "mimetype": "text/x-python",
   "name": "python",
   "nbconvert_exporter": "python",
   "pygments_lexer": "ipython3",
   "version": "3.11.0"
  }
 },
 "nbformat": 4,
 "nbformat_minor": 5
}
